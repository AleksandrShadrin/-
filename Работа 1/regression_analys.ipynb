{
 "cells": [
  {
   "cell_type": "markdown",
   "metadata": {},
   "source": [
    "### Лабораторная работа №1\n",
    "#### Вариант 20"
   ]
  },
  {
   "cell_type": "code",
   "execution_count": 65,
   "metadata": {},
   "outputs": [],
   "source": [
    "import pandas as pd\n",
    "import numpy as np\n",
    "import matplotlib.pyplot as plt\n",
    "\n",
    "t_student = 1.99\n",
    "fisher = 3.96"
   ]
  },
  {
   "cell_type": "code",
   "execution_count": 66,
   "metadata": {},
   "outputs": [
    {
     "data": {
      "text/html": [
       "<div>\n",
       "<style scoped>\n",
       "    .dataframe tbody tr th:only-of-type {\n",
       "        vertical-align: middle;\n",
       "    }\n",
       "\n",
       "    .dataframe tbody tr th {\n",
       "        vertical-align: top;\n",
       "    }\n",
       "\n",
       "    .dataframe thead th {\n",
       "        text-align: right;\n",
       "    }\n",
       "</style>\n",
       "<table border=\"1\" class=\"dataframe\">\n",
       "  <thead>\n",
       "    <tr style=\"text-align: right;\">\n",
       "      <th></th>\n",
       "      <th>Потребительские расход в среднем на душу населения (в месяц), руб.</th>\n",
       "      <th>Валовой региональный продукт в 2019 г., млрд руб.</th>\n",
       "    </tr>\n",
       "    <tr>\n",
       "      <th>Регион</th>\n",
       "      <th></th>\n",
       "      <th></th>\n",
       "    </tr>\n",
       "  </thead>\n",
       "  <tbody>\n",
       "    <tr>\n",
       "      <th>Белгородская область</th>\n",
       "      <td>26473.0</td>\n",
       "      <td>956.0</td>\n",
       "    </tr>\n",
       "    <tr>\n",
       "      <th>Брянская область</th>\n",
       "      <td>23765.0</td>\n",
       "      <td>397.7</td>\n",
       "    </tr>\n",
       "    <tr>\n",
       "      <th>Владимирская область</th>\n",
       "      <td>20653.0</td>\n",
       "      <td>537.4</td>\n",
       "    </tr>\n",
       "    <tr>\n",
       "      <th>Воронежская область</th>\n",
       "      <td>27110.0</td>\n",
       "      <td>1002.6</td>\n",
       "    </tr>\n",
       "    <tr>\n",
       "      <th>Ивановская область</th>\n",
       "      <td>20058.0</td>\n",
       "      <td>249.8</td>\n",
       "    </tr>\n",
       "    <tr>\n",
       "      <th>Калужская область</th>\n",
       "      <td>24683.0</td>\n",
       "      <td>545.1</td>\n",
       "    </tr>\n",
       "    <tr>\n",
       "      <th>Костромская область</th>\n",
       "      <td>20711.0</td>\n",
       "      <td>202.9</td>\n",
       "    </tr>\n",
       "    <tr>\n",
       "      <th>Курская область</th>\n",
       "      <td>22620.0</td>\n",
       "      <td>496.7</td>\n",
       "    </tr>\n",
       "    <tr>\n",
       "      <th>Липецкая область</th>\n",
       "      <td>25829.0</td>\n",
       "      <td>570.4</td>\n",
       "    </tr>\n",
       "    <tr>\n",
       "      <th>Московская область</th>\n",
       "      <td>36961.0</td>\n",
       "      <td>5128.4</td>\n",
       "    </tr>\n",
       "  </tbody>\n",
       "</table>\n",
       "</div>"
      ],
      "text/plain": [
       "                      Потребительские расход в среднем на душу населения (в месяц), руб.  \\\n",
       "Регион                                                                                     \n",
       "Белгородская область                                            26473.0                    \n",
       "Брянская область                                                23765.0                    \n",
       "Владимирская область                                            20653.0                    \n",
       "Воронежская область                                             27110.0                    \n",
       "Ивановская область                                              20058.0                    \n",
       "Калужская область                                               24683.0                    \n",
       "Костромская область                                             20711.0                    \n",
       "Курская область                                                 22620.0                    \n",
       "Липецкая область                                                25829.0                    \n",
       "Московская область                                              36961.0                    \n",
       "\n",
       "                      Валовой региональный продукт в 2019 г., млрд руб.  \n",
       "Регион                                                                   \n",
       "Белгородская область                                              956.0  \n",
       "Брянская область                                                  397.7  \n",
       "Владимирская область                                              537.4  \n",
       "Воронежская область                                              1002.6  \n",
       "Ивановская область                                                249.8  \n",
       "Калужская область                                                 545.1  \n",
       "Костромская область                                               202.9  \n",
       "Курская область                                                   496.7  \n",
       "Липецкая область                                                  570.4  \n",
       "Московская область                                               5128.4  "
      ]
     },
     "execution_count": 66,
     "metadata": {},
     "output_type": "execute_result"
    }
   ],
   "source": [
    "feature_1 = \"Потребительские расход в среднем на душу населения (в месяц), руб.\"\n",
    "feature_2 = \"Валовой региональный продукт в 2019 г., млрд руб.\"\n",
    "\n",
    "df = pd.read_excel(\"Data.xlsx\", index_col=None);\n",
    "df.index = df[\"Регион\"]\n",
    "df = df[[feature_1, feature_2]]\n",
    "df = df.dropna()\n",
    "\n",
    "df.head(10)"
   ]
  },
  {
   "cell_type": "code",
   "execution_count": 67,
   "metadata": {},
   "outputs": [
    {
     "data": {
      "text/html": [
       "<div>\n",
       "<style scoped>\n",
       "    .dataframe tbody tr th:only-of-type {\n",
       "        vertical-align: middle;\n",
       "    }\n",
       "\n",
       "    .dataframe tbody tr th {\n",
       "        vertical-align: top;\n",
       "    }\n",
       "\n",
       "    .dataframe thead th {\n",
       "        text-align: right;\n",
       "    }\n",
       "</style>\n",
       "<table border=\"1\" class=\"dataframe\">\n",
       "  <thead>\n",
       "    <tr style=\"text-align: right;\">\n",
       "      <th></th>\n",
       "      <th>Потребительские расход в среднем на душу населения (в месяц), руб.</th>\n",
       "      <th>Валовой региональный продукт в 2019 г., млрд руб.</th>\n",
       "    </tr>\n",
       "  </thead>\n",
       "  <tbody>\n",
       "    <tr>\n",
       "      <th>count</th>\n",
       "      <td>85.000000</td>\n",
       "      <td>85.000000</td>\n",
       "    </tr>\n",
       "    <tr>\n",
       "      <th>mean</th>\n",
       "      <td>23795.788235</td>\n",
       "      <td>1205.820000</td>\n",
       "    </tr>\n",
       "    <tr>\n",
       "      <th>std</th>\n",
       "      <td>7035.137888</td>\n",
       "      <td>2432.561205</td>\n",
       "    </tr>\n",
       "    <tr>\n",
       "      <th>min</th>\n",
       "      <td>9421.000000</td>\n",
       "      <td>56.600000</td>\n",
       "    </tr>\n",
       "    <tr>\n",
       "      <th>25%</th>\n",
       "      <td>19463.000000</td>\n",
       "      <td>273.500000</td>\n",
       "    </tr>\n",
       "    <tr>\n",
       "      <th>50%</th>\n",
       "      <td>22543.000000</td>\n",
       "      <td>559.100000</td>\n",
       "    </tr>\n",
       "    <tr>\n",
       "      <th>75%</th>\n",
       "      <td>26907.000000</td>\n",
       "      <td>1110.400000</td>\n",
       "    </tr>\n",
       "    <tr>\n",
       "      <th>max</th>\n",
       "      <td>51704.000000</td>\n",
       "      <td>19673.000000</td>\n",
       "    </tr>\n",
       "  </tbody>\n",
       "</table>\n",
       "</div>"
      ],
      "text/plain": [
       "       Потребительские расход в среднем на душу населения (в месяц), руб.  \\\n",
       "count                                          85.000000                    \n",
       "mean                                        23795.788235                    \n",
       "std                                          7035.137888                    \n",
       "min                                          9421.000000                    \n",
       "25%                                         19463.000000                    \n",
       "50%                                         22543.000000                    \n",
       "75%                                         26907.000000                    \n",
       "max                                         51704.000000                    \n",
       "\n",
       "       Валовой региональный продукт в 2019 г., млрд руб.  \n",
       "count                                          85.000000  \n",
       "mean                                         1205.820000  \n",
       "std                                          2432.561205  \n",
       "min                                            56.600000  \n",
       "25%                                           273.500000  \n",
       "50%                                           559.100000  \n",
       "75%                                          1110.400000  \n",
       "max                                         19673.000000  "
      ]
     },
     "execution_count": 67,
     "metadata": {},
     "output_type": "execute_result"
    }
   ],
   "source": [
    "df.describe()"
   ]
  },
  {
   "cell_type": "markdown",
   "metadata": {},
   "source": [
    "#### Нанесем исходные данные на координатную плоскость"
   ]
  },
  {
   "cell_type": "code",
   "execution_count": 68,
   "metadata": {},
   "outputs": [
    {
     "data": {
      "text/plain": [
       "[]"
      ]
     },
     "execution_count": 68,
     "metadata": {},
     "output_type": "execute_result"
    },
    {
     "data": {
      "image/png": "[encoded data removed]",
      "text/plain": [
       "<Figure size 432x432 with 1 Axes>"
      ]
     },
     "metadata": {
      "needs_background": "light"
     },
     "output_type": "display_data"
    }
   ],
   "source": [
    "plt.figure(figsize=(6, 6))\n",
    "plt.scatter(df[feature_1], df[feature_2])\n",
    "plt.xlabel(feature_1)\n",
    "plt.ylabel(feature_2)\n",
    "plt.tight_layout()\n",
    "plt.plot()"
   ]
  },
  {
   "cell_type": "code",
   "execution_count": 69,
   "metadata": {},
   "outputs": [],
   "source": [
    "anomaly = df.index[np.argmax(df[feature_2])]"
   ]
  },
  {
   "cell_type": "code",
   "execution_count": 70,
   "metadata": {},
   "outputs": [
    {
     "data": {
      "text/html": [
       "<div>\n",
       "<style scoped>\n",
       "    .dataframe tbody tr th:only-of-type {\n",
       "        vertical-align: middle;\n",
       "    }\n",
       "\n",
       "    .dataframe tbody tr th {\n",
       "        vertical-align: top;\n",
       "    }\n",
       "\n",
       "    .dataframe thead th {\n",
       "        text-align: right;\n",
       "    }\n",
       "</style>\n",
       "<table border=\"1\" class=\"dataframe\">\n",
       "  <thead>\n",
       "    <tr style=\"text-align: right;\">\n",
       "      <th></th>\n",
       "      <th>Потребительские расход в среднем на душу населения (в месяц), руб.</th>\n",
       "      <th>Валовой региональный продукт в 2019 г., млрд руб.</th>\n",
       "    </tr>\n",
       "    <tr>\n",
       "      <th>Регион</th>\n",
       "      <th></th>\n",
       "      <th></th>\n",
       "    </tr>\n",
       "  </thead>\n",
       "  <tbody>\n",
       "    <tr>\n",
       "      <th>Белгородская область</th>\n",
       "      <td>26473.0</td>\n",
       "      <td>956.0</td>\n",
       "    </tr>\n",
       "    <tr>\n",
       "      <th>Брянская область</th>\n",
       "      <td>23765.0</td>\n",
       "      <td>397.7</td>\n",
       "    </tr>\n",
       "    <tr>\n",
       "      <th>Владимирская область</th>\n",
       "      <td>20653.0</td>\n",
       "      <td>537.4</td>\n",
       "    </tr>\n",
       "    <tr>\n",
       "      <th>Воронежская область</th>\n",
       "      <td>27110.0</td>\n",
       "      <td>1002.6</td>\n",
       "    </tr>\n",
       "    <tr>\n",
       "      <th>Ивановская область</th>\n",
       "      <td>20058.0</td>\n",
       "      <td>249.8</td>\n",
       "    </tr>\n",
       "    <tr>\n",
       "      <th>...</th>\n",
       "      <td>...</td>\n",
       "      <td>...</td>\n",
       "    </tr>\n",
       "    <tr>\n",
       "      <th>Амурская область</th>\n",
       "      <td>27298.0</td>\n",
       "      <td>412.5</td>\n",
       "    </tr>\n",
       "    <tr>\n",
       "      <th>Магаданская область</th>\n",
       "      <td>35638.0</td>\n",
       "      <td>213.6</td>\n",
       "    </tr>\n",
       "    <tr>\n",
       "      <th>Сахалинская область</th>\n",
       "      <td>43512.0</td>\n",
       "      <td>1173.9</td>\n",
       "    </tr>\n",
       "    <tr>\n",
       "      <th>Еврейская автономная область</th>\n",
       "      <td>21006.0</td>\n",
       "      <td>56.6</td>\n",
       "    </tr>\n",
       "    <tr>\n",
       "      <th>Чукотский автономный округ</th>\n",
       "      <td>30869.0</td>\n",
       "      <td>94.9</td>\n",
       "    </tr>\n",
       "  </tbody>\n",
       "</table>\n",
       "<p>84 rows × 2 columns</p>\n",
       "</div>"
      ],
      "text/plain": [
       "                              Потребительские расход в среднем на душу населения (в месяц), руб.  \\\n",
       "Регион                                                                                             \n",
       "Белгородская область                                                    26473.0                    \n",
       "Брянская область                                                        23765.0                    \n",
       "Владимирская область                                                    20653.0                    \n",
       "Воронежская область                                                     27110.0                    \n",
       "Ивановская область                                                      20058.0                    \n",
       "...                                                                         ...                    \n",
       "Амурская область                                                        27298.0                    \n",
       "Магаданская область                                                     35638.0                    \n",
       "Сахалинская область                                                     43512.0                    \n",
       "Еврейская автономная область                                            21006.0                    \n",
       "Чукотский автономный округ                                              30869.0                    \n",
       "\n",
       "                              Валовой региональный продукт в 2019 г., млрд руб.  \n",
       "Регион                                                                           \n",
       "Белгородская область                                                      956.0  \n",
       "Брянская область                                                          397.7  \n",
       "Владимирская область                                                      537.4  \n",
       "Воронежская область                                                      1002.6  \n",
       "Ивановская область                                                        249.8  \n",
       "...                                                                         ...  \n",
       "Амурская область                                                          412.5  \n",
       "Магаданская область                                                       213.6  \n",
       "Сахалинская область                                                      1173.9  \n",
       "Еврейская автономная область                                               56.6  \n",
       "Чукотский автономный округ                                                 94.9  \n",
       "\n",
       "[84 rows x 2 columns]"
      ]
     },
     "execution_count": 70,
     "metadata": {},
     "output_type": "execute_result"
    }
   ],
   "source": [
    "df.drop(anomaly)"
   ]
  },
  {
   "cell_type": "markdown",
   "metadata": {},
   "source": [
    "#### Расчитаем линейный коэффициент парной корреляции по формуле:\n",
    "## $\\frac{cov(x,y)}{\\sigma_x*\\sigma_y}$"
   ]
  },
  {
   "cell_type": "code",
   "execution_count": 71,
   "metadata": {},
   "outputs": [
    {
     "name": "stdout",
     "output_type": "stream",
     "text": [
      "rxy is 0.6281228893288435\n"
     ]
    }
   ],
   "source": [
    "rxy = np.cov(df[feature_1], df[feature_2])[0,1] \\\n",
    "    / (np.std(df[feature_1]) * np.std(df[feature_2]))\n",
    "print(f\"rxy is {rxy}\")"
   ]
  },
  {
   "cell_type": "markdown",
   "metadata": {},
   "source": [
    "#### Проверим значимость линейного коэффициента корреляции, используя t критерий стъюдента по формуле\n",
    "### $t_{r_{xy}}=r_{xy}*\\frac{\\sqrt{n-2}}{\\sqrt{1-r^2_{xy}}}$"
   ]
  },
  {
   "cell_type": "code",
   "execution_count": 72,
   "metadata": {},
   "outputs": [
    {
     "name": "stdout",
     "output_type": "stream",
     "text": [
      "trxy = 7.354283220420104\n",
      "|trxy| > t_student(0,95, 85) is True\n"
     ]
    }
   ],
   "source": [
    "import math\n",
    "\n",
    "trxy = rxy * (math.sqrt(df.count()[0]-2) / math.sqrt(1-rxy**2))\n",
    "\n",
    "print(f\"trxy = {trxy}\")\n",
    "print(f\"|trxy| > t_student(0,95, {df.count()[0]}) is {trxy > t_student}\")"
   ]
  },
  {
   "cell_type": "markdown",
   "metadata": {},
   "source": [
    "#### Следовательно коэффициент корреляции значим"
   ]
  },
  {
   "cell_type": "markdown",
   "metadata": {},
   "source": [
    "#### Найдем коэффициенты уравнения регрессии\n",
    "### $b=\\frac{cov(x,y)}{\\sigma_x^2}$ \n",
    "### $a=\\bar y - b\\bar x$"
   ]
  },
  {
   "cell_type": "code",
   "execution_count": 73,
   "metadata": {},
   "outputs": [
    {
     "name": "stdout",
     "output_type": "stream",
     "text": [
      "y = -3962.339131288458 + 0.2171879779810362*x\n"
     ]
    }
   ],
   "source": [
    "b = rxy * np.std(df[feature_2])/np.std(df[feature_1])\n",
    "a = np.mean(df[feature_2]) - b*np.mean(df[feature_1])\n",
    "print(f'y = {a} + {b}*x')\n",
    "\n",
    "def y(x):\n",
    "    return a + b*x"
   ]
  },
  {
   "cell_type": "markdown",
   "metadata": {},
   "source": [
    "#### Найдем сумму для \n",
    "### $y-y_{regr}$ и $(y-y_{regr})^2$"
   ]
  },
  {
   "cell_type": "code",
   "execution_count": 74,
   "metadata": {},
   "outputs": [],
   "source": [
    "substr = np.round((df[feature_2] - y(df[feature_1])).sum(), 3)\n",
    "substr_in_pow_2 = np.power((df[feature_2] - y(df[feature_1])), 2).sum()"
   ]
  },
  {
   "cell_type": "markdown",
   "metadata": {},
   "source": [
    "#### Несмещенная оценка дисперсии возмущений:\n",
    "### $S^2=\\frac{\\Sigma(y-\\bar y)^2}{n-m-1}$\n",
    "#### Стандартная ошибка регрессии:\n",
    "### S = $\\sqrt{S^2}$\n",
    "#### Стадартное отклонение а:\n",
    "### $S_a=S\\frac{sqrt{\\Sigma x^2}}{n\\Sigma\\bar y(x)}$\n",
    "#### Стадартное отклонение b:\n",
    "### $S_a=S\\frac{1}{n\\Sigma\\bar y(x)}$"
   ]
  },
  {
   "cell_type": "code",
   "execution_count": 75,
   "metadata": {},
   "outputs": [
    {
     "name": "stdout",
     "output_type": "stream",
     "text": [
      "s^2 is 3681490.419978069\n",
      "s is 1918.7210375607156\n",
      "s_a is 50.360685376802614\n",
      "s_b is 0.00022023761889331707\n"
     ]
    }
   ],
   "source": [
    "s_2 = substr_in_pow_2 / (df[feature_1].count() - 2)\n",
    "s = np.sqrt(s_2)\n",
    "s_a = s*np.sqrt(np.power(df[feature_1],2).sum()) / \\\n",
    "    (df[feature_1].count() * y(df[feature_1]).sum())\n",
    "    \n",
    "s_b = s / \\\n",
    "    (df[feature_1].count() * y(df[feature_1]).sum())\n",
    "\n",
    "print(f's^2 is {s_2}')\n",
    "print(f's is {s}')\n",
    "print(f's_a is {s_a}')\n",
    "print(f's_b is {s_b}')"
   ]
  },
  {
   "cell_type": "markdown",
   "metadata": {},
   "source": [
    "#### t-статистика\n",
    "### $t_a=\\frac{a}{S_a}$"
   ]
  },
  {
   "cell_type": "code",
   "execution_count": 76,
   "metadata": {},
   "outputs": [
    {
     "name": "stdout",
     "output_type": "stream",
     "text": [
      "t_a = -78.67921378833358\n",
      "|t_a| > t_student is True\n"
     ]
    }
   ],
   "source": [
    "t_a = a / s_a\n",
    "print(f't_a = {t_a}')\n",
    "print(f'|t_a| > t_student is {np.abs(t_a) > t_student}')"
   ]
  },
  {
   "cell_type": "markdown",
   "metadata": {},
   "source": [
    "#### Т.к. $|t_a| > t_{крит}(0,95, 85)$, следовательно коэффициент а статистически значим"
   ]
  },
  {
   "cell_type": "markdown",
   "metadata": {},
   "source": [
    "### $t_b=\\frac{b}{S_b}$"
   ]
  },
  {
   "cell_type": "code",
   "execution_count": 77,
   "metadata": {},
   "outputs": [
    {
     "name": "stdout",
     "output_type": "stream",
     "text": [
      "t_b = 986.1529518544327\n",
      "|t_b| > t_student is True\n"
     ]
    }
   ],
   "source": [
    "t_b = b / s_b\n",
    "print(f't_b = {t_b}')\n",
    "print(f'|t_b| > t_student is {np.abs(t_b) > t_student}')"
   ]
  },
  {
   "cell_type": "markdown",
   "metadata": {},
   "source": [
    "#### Т.к. $|t_b| > t_{крит}(0,95, 85)$, следовательно коэффициент b статистически значим"
   ]
  },
  {
   "cell_type": "markdown",
   "metadata": {},
   "source": [
    "### Для значимых коэффициентов построим доверительные интервалы:\n",
    "#### для а - $(a-t_{крит}*S_a;a+t_{крит}*S_a)$"
   ]
  },
  {
   "cell_type": "code",
   "execution_count": 78,
   "metadata": {},
   "outputs": [
    {
     "name": "stdout",
     "output_type": "stream",
     "text": [
      "(-4062.556895188295;-3862.1213673886205))\n"
     ]
    }
   ],
   "source": [
    "print(f'({a - t_student*s_a};{a + t_student*s_a}))')"
   ]
  },
  {
   "cell_type": "markdown",
   "metadata": {},
   "source": [
    "#### для а - $(b-t_{крит}*S_b;b+t_{крит}*S_b)$"
   ]
  },
  {
   "cell_type": "code",
   "execution_count": 79,
   "metadata": {},
   "outputs": [
    {
     "name": "stdout",
     "output_type": "stream",
     "text": [
      "(0.2167497051194385;0.2176262508426339))\n"
     ]
    }
   ],
   "source": [
    "print(f'({b - t_student*s_b};{b + t_student*s_b}))')"
   ]
  },
  {
   "cell_type": "markdown",
   "metadata": {},
   "source": [
    "#### Коэффициент детерминации\n",
    "### $R^2 = 1-\\frac{\\Sigma(y-\\bar y)^2}{\\Sigma(y-y_{срд})^2}$"
   ]
  },
  {
   "cell_type": "code",
   "execution_count": 80,
   "metadata": {},
   "outputs": [
    {
     "data": {
      "text/plain": [
       "0.3852551084729604"
      ]
     },
     "execution_count": 80,
     "metadata": {},
     "output_type": "execute_result"
    }
   ],
   "source": [
    "R_2 = 1 - substr_in_pow_2 / np.sum(np.power(df[feature_2]-df[feature_2].mean(), 2))\n",
    "R_2"
   ]
  },
  {
   "cell_type": "markdown",
   "metadata": {},
   "source": [
    "### Статистика Фишера \n",
    "#### $F=\\frac{R^2}{1-R^2}\\frac{n-m-1}{m}$"
   ]
  },
  {
   "cell_type": "code",
   "execution_count": 81,
   "metadata": {},
   "outputs": [
    {
     "data": {
      "text/plain": [
       "52.01535538396456"
      ]
     },
     "execution_count": 81,
     "metadata": {},
     "output_type": "execute_result"
    }
   ],
   "source": [
    "F = R_2 / (1-R_2) * (df[feature_1].count() - 2)\n",
    "F"
   ]
  },
  {
   "cell_type": "markdown",
   "metadata": {},
   "source": [
    "#### Сравним $F$ и $F_{крит}(0,05,1,83)$"
   ]
  },
  {
   "cell_type": "code",
   "execution_count": 82,
   "metadata": {},
   "outputs": [
    {
     "name": "stdout",
     "output_type": "stream",
     "text": [
      "F > F_krit is True\n"
     ]
    }
   ],
   "source": [
    "print(f'F > F_krit is {F > fisher}')"
   ]
  },
  {
   "cell_type": "markdown",
   "metadata": {},
   "source": [
    "#### Следовательно уравнение регрессии надёжно"
   ]
  },
  {
   "cell_type": "markdown",
   "metadata": {},
   "source": [
    "#### Выполним точечный прогноз величины y в точке $x_p=x_{max}*1.1$"
   ]
  },
  {
   "cell_type": "code",
   "execution_count": 83,
   "metadata": {},
   "outputs": [
    {
     "name": "stdout",
     "output_type": "stream",
     "text": [
      "x_p = 56874.4, y_p = 8390.096803596189\n"
     ]
    }
   ],
   "source": [
    "x_p = df[feature_1].max() * 1.1\n",
    "y_p = y(x_p)\n",
    "print(f'x_p = {x_p}, y_p = {y_p}')"
   ]
  },
  {
   "cell_type": "markdown",
   "metadata": {},
   "source": [
    "#### Расчитаем доверительные интервалы для уравнения регрессии и для результативного признака $y_p$ при доверительной вероятности $\\alpha=0.95$\n",
    "### $\\bar y_p - t_{кр}\\sigma_{\\bar y_p} <= y_p <= \\bar y_p + t_{кр}\\sigma_{\\bar y_p}$\n",
    "### $\\sigma_{\\bar y_p} = S\\sqrt{1+\\frac{1}{n}+\\frac{(x_p-\\bar x)^2}{\\Sigma(x-\\bar x)^2}}$"
   ]
  },
  {
   "cell_type": "code",
   "execution_count": 84,
   "metadata": {},
   "outputs": [
    {
     "name": "stdout",
     "output_type": "stream",
     "text": [
      "sigma_yp = 2166.502940147177\n",
      "4078.7559527033063 <= yp <= 12701.437654489071\n"
     ]
    }
   ],
   "source": [
    "sigma_yp = s * np.sqrt(1 + 1 / df[feature_1].count() \\\n",
    "    + (x_p - df[feature_1].mean())**2 / ((df[feature_1] - \\\n",
    "        df[feature_1].mean())**2).sum())\n",
    "print(f'sigma_yp = {sigma_yp}')\n",
    "print(f'{y_p - t_student*sigma_yp} <= yp <= {y_p + t_student*sigma_yp}')"
   ]
  },
  {
   "cell_type": "markdown",
   "metadata": {},
   "source": [
    "### Построим уравнение регрессии на графике с исходными данными"
   ]
  },
  {
   "cell_type": "code",
   "execution_count": 85,
   "metadata": {},
   "outputs": [
    {
     "data": {
      "image/png": "[encoded data removed]",
      "text/plain": [
       "<Figure size 720x432 with 1 Axes>"
      ]
     },
     "metadata": {
      "needs_background": "light"
     },
     "output_type": "display_data"
    }
   ],
   "source": [
    "plt.figure(figsize=(10, 6))\n",
    "plt.scatter(df[feature_1], df[feature_2], alpha=0.65, label='Исходные данные')\n",
    "plt.xlabel(feature_1)\n",
    "plt.ylabel(feature_2)\n",
    "plt.plot(df[feature_1].sort_values(), y(df[feature_1].sort_values()), color='red', lw=3, label='Уравнение регрессии')\n",
    "plt.plot(df[feature_1].sort_values(), y(df[feature_1].sort_values()) + t_student*sigma_yp, color='violet', ls='--', label='Верхняя граница')\n",
    "plt.plot(df[feature_1].sort_values(), y(df[feature_1].sort_values()) - t_student*sigma_yp, color='green', ls='--', label='Нижняя граница')\n",
    "x = np.linspace(df[feature_1].min(), df[feature_1].max(), 1000)\n",
    "y1 = y(x) + t_student*sigma_yp\n",
    "y2 = y(x) - t_student*sigma_yp\n",
    "plt.fill_between(x, y1, y2, alpha=0.2)\n",
    "plt.legend()\n",
    "plt.tight_layout()\n",
    "plt.show()"
   ]
  },
  {
   "cell_type": "code",
   "execution_count": 86,
   "metadata": {},
   "outputs": [
    {
     "data": {
      "text/plain": [
       "'г. Москва'"
      ]
     },
     "execution_count": 86,
     "metadata": {},
     "output_type": "execute_result"
    }
   ],
   "source": []
  }
 ],
 "metadata": {
  "kernelspec": {
   "display_name": "Python 3.9.7 ('base')",
   "language": "python",
   "name": "python3"
  },
  "language_info": {
   "codemirror_mode": {
    "name": "ipython",
    "version": 3
   },
   "file_extension": ".py",
   "mimetype": "text/x-python",
   "name": "python",
   "nbconvert_exporter": "python",
   "pygments_lexer": "ipython3",
   "version": "3.9.7"
  },
  "orig_nbformat": 4,
  "vscode": {
   "interpreter": {
    "hash": "f76d4fda128b12615e46e0e8dd834a222e7abd956eb53de74309670d1db4104c"
   }
  }
 },
 "nbformat": 4,
 "nbformat_minor": 2
}
